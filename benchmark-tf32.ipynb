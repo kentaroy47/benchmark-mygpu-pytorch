{
 "cells": [
  {
   "cell_type": "markdown",
   "id": "0dddbb18",
   "metadata": {},
   "source": [
    "GPU: A6000\n",
    "\n",
    "CPU: Ryzen3600"
   ]
  },
  {
   "cell_type": "code",
   "execution_count": 1,
   "id": "40787733",
   "metadata": {},
   "outputs": [],
   "source": [
    "import numpy as np\n",
    "import pandas as pd\n",
    "import time\n",
    "import torch\n",
    "from tqdm.notebook import tqdm "
   ]
  },
  {
   "cell_type": "code",
   "execution_count": 2,
   "id": "876df614",
   "metadata": {},
   "outputs": [],
   "source": [
    "WARM_UP = 10\n",
    "BATCH_SIZE = 4\n",
    "NUM_TEST = 100"
   ]
  },
  {
   "cell_type": "markdown",
   "id": "4276a17a",
   "metadata": {},
   "source": [
    "Inference for TF32 vs FP32 on A6000"
   ]
  },
  {
   "cell_type": "code",
   "execution_count": 3,
   "id": "94f68bab",
   "metadata": {},
   "outputs": [
    {
     "name": "stdout",
     "output_type": "stream",
     "text": [
      "TF32 average inference time : 38.884220123291016ms\n",
      "FP32 average inference time : 106.4377236366272ms\n"
     ]
    }
   ],
   "source": [
    "a_full = torch.randn(10240, 10240, dtype=torch.double, device='cuda')\n",
    "b_full = torch.randn(10240, 10240, dtype=torch.double, device='cuda')\n",
    "\n",
    "a = a_full.float()\n",
    "b = b_full.float()\n",
    "\n",
    "# The flag below controls whether to allow TF32 on matmul. This flag defaults to True.\n",
    "torch.backends.cuda.matmul.allow_tf32 = True\n",
    "# The flag below controls whether to allow TF32 on cuDNN. This flag defaults to True.\n",
    "torch.backends.cudnn.allow_tf32 = True\n",
    "\n",
    "durations = []\n",
    "\n",
    "# Do matmul at TF32 mode.\n",
    "for step in range(NUM_TEST+WARM_UP):\n",
    "    torch.cuda.synchronize()\n",
    "    start = time.time()\n",
    "    ab_tf32 = a @ b  # takes 0.016s on GA100\n",
    "    torch.cuda.synchronize()\n",
    "    end = time.time()\n",
    "    if step >= WARM_UP:\n",
    "        durations.append((end - start)*1000)\n",
    "print(f'TF32 average inference time : {sum(durations)/len(durations)}ms')\n",
    "\n",
    "# The flag below controls whether to allow TF32 on matmul. This flag defaults to True.\n",
    "torch.backends.cuda.matmul.allow_tf32 = False\n",
    "# The flag below controls whether to allow TF32 on cuDNN. This flag defaults to True.\n",
    "torch.backends.cudnn.allow_tf32 = False\n",
    "\n",
    "durations = []\n",
    "\n",
    "# Do matmul at TF32 mode.\n",
    "for step in range(NUM_TEST+WARM_UP):\n",
    "    torch.cuda.synchronize()\n",
    "    start = time.time()\n",
    "    ab_tf32 = a @ b  # takes 0.016s on GA100\n",
    "    torch.cuda.synchronize()\n",
    "    end = time.time()\n",
    "    if step >= WARM_UP:\n",
    "        durations.append((end - start)*1000)\n",
    "print(f'FP32 average inference time : {sum(durations)/len(durations)}ms')"
   ]
  },
  {
   "cell_type": "code",
   "execution_count": null,
   "id": "29d4938d",
   "metadata": {},
   "outputs": [],
   "source": []
  }
 ],
 "metadata": {
  "kernelspec": {
   "display_name": "Python 3",
   "language": "python",
   "name": "python3"
  },
  "language_info": {
   "codemirror_mode": {
    "name": "ipython",
    "version": 3
   },
   "file_extension": ".py",
   "mimetype": "text/x-python",
   "name": "python",
   "nbconvert_exporter": "python",
   "pygments_lexer": "ipython3",
   "version": "3.7.0"
  }
 },
 "nbformat": 4,
 "nbformat_minor": 5
}
