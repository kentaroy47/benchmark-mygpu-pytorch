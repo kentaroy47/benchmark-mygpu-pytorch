{
 "cells": [
  {
   "cell_type": "markdown",
   "id": "90a2ddc7",
   "metadata": {},
   "source": [
    "# Check hardware"
   ]
  },
  {
   "cell_type": "markdown",
   "id": "0dddbb18",
   "metadata": {},
   "source": [
    "GPU: A6000\n",
    "\n",
    "CPU: Ryzen3600"
   ]
  },
  {
   "cell_type": "code",
   "execution_count": 1,
   "id": "40787733",
   "metadata": {},
   "outputs": [],
   "source": [
    "import numpy as np\n",
    "import pandas as pd\n",
    "import time\n",
    "import torch\n",
    "from tqdm.notebook import tqdm "
   ]
  },
  {
   "cell_type": "code",
   "execution_count": 4,
   "id": "4d7f4cd3",
   "metadata": {},
   "outputs": [
    {
     "data": {
      "text/plain": [
       "'1.9.0'"
      ]
     },
     "execution_count": 4,
     "metadata": {},
     "output_type": "execute_result"
    }
   ],
   "source": [
    "torch.__version__"
   ]
  },
  {
   "cell_type": "code",
   "execution_count": 7,
   "id": "72242fcd",
   "metadata": {},
   "outputs": [
    {
     "name": "stdout",
     "output_type": "stream",
     "text": [
      "Tue Sep 28 14:36:12 2021       \r\n",
      "+-----------------------------------------------------------------------------+\r\n",
      "| NVIDIA-SMI 460.91.03    Driver Version: 460.91.03    CUDA Version: 11.2     |\r\n",
      "|-------------------------------+----------------------+----------------------+\r\n",
      "| GPU  Name        Persistence-M| Bus-Id        Disp.A | Volatile Uncorr. ECC |\r\n",
      "| Fan  Temp  Perf  Pwr:Usage/Cap|         Memory-Usage | GPU-Util  Compute M. |\r\n",
      "|                               |                      |               MIG M. |\r\n",
      "|===============================+======================+======================|\r\n",
      "|   0  RTX A6000           On   | 00000000:09:00.0 Off |                  Off |\r\n",
      "| 30%   31C    P8     9W / 300W |   4742MiB / 48682MiB |      0%      Default |\r\n",
      "|                               |                      |                  N/A |\r\n",
      "+-------------------------------+----------------------+----------------------+\r\n",
      "                                                                               \r\n",
      "+-----------------------------------------------------------------------------+\r\n",
      "| Processes:                                                                  |\r\n",
      "|  GPU   GI   CI        PID   Type   Process name                  GPU Memory |\r\n",
      "|        ID   ID                                                   Usage      |\r\n",
      "|=============================================================================|\r\n",
      "|    0   N/A  N/A      1656      G   /usr/lib/xorg/Xorg                 29MiB |\r\n",
      "|    0   N/A  N/A      1944      G   /usr/bin/gnome-shell                8MiB |\r\n",
      "|    0   N/A  N/A      4211      C   ...vs/pytorch_p37/bin/python     4701MiB |\r\n",
      "+-----------------------------------------------------------------------------+\r\n"
     ]
    }
   ],
   "source": [
    "!nvidia-smi"
   ]
  },
  {
   "cell_type": "markdown",
   "id": "0e310ab6",
   "metadata": {},
   "source": [
    "# Matmul test"
   ]
  },
  {
   "cell_type": "code",
   "execution_count": 2,
   "id": "876df614",
   "metadata": {},
   "outputs": [],
   "source": [
    "WARM_UP = 10\n",
    "BATCH_SIZE = 4\n",
    "NUM_TEST = 100"
   ]
  },
  {
   "cell_type": "markdown",
   "id": "4276a17a",
   "metadata": {},
   "source": [
    "Inference for TF32 vs FP32 on A6000"
   ]
  },
  {
   "cell_type": "code",
   "execution_count": 3,
   "id": "94f68bab",
   "metadata": {},
   "outputs": [
    {
     "name": "stdout",
     "output_type": "stream",
     "text": [
      "TF32 average inference time : 38.884220123291016ms\n",
      "FP32 average inference time : 106.4377236366272ms\n"
     ]
    }
   ],
   "source": [
    "a_full = torch.randn(10240, 10240, dtype=torch.double, device='cuda')\n",
    "b_full = torch.randn(10240, 10240, dtype=torch.double, device='cuda')\n",
    "\n",
    "a = a_full.float()\n",
    "b = b_full.float()\n",
    "\n",
    "# The flag below controls whether to allow TF32 on matmul. This flag defaults to True.\n",
    "torch.backends.cuda.matmul.allow_tf32 = True\n",
    "# The flag below controls whether to allow TF32 on cuDNN. This flag defaults to True.\n",
    "torch.backends.cudnn.allow_tf32 = True\n",
    "\n",
    "durations = []\n",
    "\n",
    "# Do matmul at TF32 mode.\n",
    "for step in range(NUM_TEST+WARM_UP):\n",
    "    torch.cuda.synchronize()\n",
    "    start = time.time()\n",
    "    ab_tf32 = a @ b  # takes 0.016s on GA100\n",
    "    torch.cuda.synchronize()\n",
    "    end = time.time()\n",
    "    if step >= WARM_UP:\n",
    "        durations.append((end - start)*1000)\n",
    "print(f'TF32 average inference time : {sum(durations)/len(durations)}ms')\n",
    "\n",
    "# The flag below controls whether to allow TF32 on matmul. This flag defaults to True.\n",
    "torch.backends.cuda.matmul.allow_tf32 = False\n",
    "# The flag below controls whether to allow TF32 on cuDNN. This flag defaults to True.\n",
    "torch.backends.cudnn.allow_tf32 = False\n",
    "\n",
    "durations = []\n",
    "\n",
    "# Do matmul at TF32 mode.\n",
    "for step in range(NUM_TEST+WARM_UP):\n",
    "    torch.cuda.synchronize()\n",
    "    start = time.time()\n",
    "    ab_tf32 = a @ b  # takes 0.016s on GA100\n",
    "    torch.cuda.synchronize()\n",
    "    end = time.time()\n",
    "    if step >= WARM_UP:\n",
    "        durations.append((end - start)*1000)\n",
    "print(f'FP32 average inference time : {sum(durations)/len(durations)}ms')"
   ]
  },
  {
   "cell_type": "code",
   "execution_count": null,
   "id": "29d4938d",
   "metadata": {},
   "outputs": [],
   "source": []
  }
 ],
 "metadata": {
  "kernelspec": {
   "display_name": "Python 3",
   "language": "python",
   "name": "python3"
  },
  "language_info": {
   "codemirror_mode": {
    "name": "ipython",
    "version": 3
   },
   "file_extension": ".py",
   "mimetype": "text/x-python",
   "name": "python",
   "nbconvert_exporter": "python",
   "pygments_lexer": "ipython3",
   "version": "3.7.0"
  }
 },
 "nbformat": 4,
 "nbformat_minor": 5
}
